{
 "cells": [
  {
   "cell_type": "code",
   "execution_count": 1,
   "metadata": {},
   "outputs": [],
   "source": [
    "import scipy\n",
    "import math\n",
    "import scipy.sparse as sp\n",
    "import numpy as np\n",
    "import networkx as nx\n",
    "import torch\n",
    "import sys \n",
    "import itertools\n",
    "from networkx.algorithms.approximation import clique\n",
    "# sys.path.append(\"..\") \n",
    "from utils.data_utils import encode_onehot, normalize, sparse_mx_to_torch_sparse_tensor"
   ]
  },
  {
   "cell_type": "markdown",
   "metadata": {},
   "source": [
    "build p-order adjacency matrix in equation (1)"
   ]
  },
  {
   "cell_type": "code",
   "execution_count": 2,
   "metadata": {},
   "outputs": [],
   "source": [
    "flag_add_face = True\n",
    "dataname = 'cora'"
   ]
  },
  {
   "cell_type": "code",
   "execution_count": 4,
   "metadata": {},
   "outputs": [],
   "source": [
    "''' extract features, labels and graph from the dataset (ref: https://github.com/tkipf/pygcn) '''\n",
    "\n",
    "idx_features_labels = np.genfromtxt(\"./data/cora/cora.content\",dtype=np.dtype(str))\n",
    "features = sp.csr_matrix(idx_features_labels[:, 1:-1], dtype=np.float32)\n",
    "labels = encode_onehot(idx_features_labels[:, -1])\n",
    "# build graph\n",
    "idx = np.array(idx_features_labels[:, 0], dtype=np.int32)\n",
    "idx_map = {j: i for i, j in enumerate(idx)}\n",
    "edges_unordered = np.genfromtxt(\"./data/cora/cora.cites\",dtype=np.int32)\n",
    "edges = np.array(list(map(idx_map.get, edges_unordered.flatten())),\n",
    "                    dtype=np.int32).reshape(edges_unordered.shape)\n",
    "adj = sp.coo_matrix((np.ones(edges.shape[0]), (edges[:, 0], edges[:, 1])),\n",
    "                    shape=(labels.shape[0], labels.shape[0]),\n",
    "                    dtype=np.float32)\n",
    "# directed --> symmetric adjacency matrix\n",
    "# in binary case, this is equivalent as adj = (adj + adj.T)/2\n",
    "# if the network is weighted, only a single edge is kept (the one with largest weight).\n",
    "adj = adj + adj.T.multiply(adj.T > adj) - adj.multiply(adj.T > adj)"
   ]
  },
  {
   "cell_type": "code",
   "execution_count": 5,
   "metadata": {},
   "outputs": [
    {
     "name": "stdout",
     "output_type": "stream",
     "text": [
      "number of edges in graph is 5278\n",
      "number of simplices is 2723\n",
      "maximum dimension of simlices is 4\n"
     ]
    }
   ],
   "source": [
    "''' build simplicial complexes from cliques '''\n",
    "G = nx.from_scipy_sparse_matrix(adj)\n",
    "# if all nodes in a clique (edge, triangle etc.) have same label, it is considered as a simplex\n",
    "# note that we remove edges whose ends have different labels\n",
    "SC = []\n",
    "SC_labels = []\n",
    "for clq in nx.clique.find_cliques(G):\n",
    "    if (labels[clq] == labels[clq][0]).all(): # set of nodes have same label\n",
    "        SC.append(set(clq))\n",
    "        SC_labels.append(labels[clq][0])\n",
    "p_max = max([len(SC[i]) for i in range(len(SC))]) - 1\n",
    "print('number of edges in graph is', G.number_of_edges())\n",
    "print('number of simplices is', len(SC))\n",
    "print('maximum dimension of simlices is', p_max)"
   ]
  },
  {
   "cell_type": "code",
   "execution_count": 6,
   "metadata": {},
   "outputs": [
    {
     "name": "stdout",
     "output_type": "stream",
     "text": [
      "number of nodes in graph is 2708\n",
      "number of points in simplcial complex is 2481\n"
     ]
    }
   ],
   "source": [
    "# check number of points in the SC\n",
    "points = set()\n",
    "for s in SC:\n",
    "    for ss in s:\n",
    "        points.add(ss)\n",
    "print('number of nodes in graph is', G.number_of_nodes())\n",
    "print('number of points in simplcial complex is', len(points))"
   ]
  },
  {
   "cell_type": "code",
   "execution_count": 7,
   "metadata": {},
   "outputs": [],
   "source": [
    "''' build p-chains '''\n",
    "simplex_chains = [[] for _ in range(p_max+1)]   # simplex_chains[p] is the list of p-chains\n",
    "simplex_labels = [[] for _ in range(p_max+1)]   # simplex_chains[p] is the list of p-chains' labels\n",
    "simplex_features = [[] for _ in range(p_max+1)] # simplex_chains[p] is the list of p-chains' features\n",
    "feat_dense = np.array(features.todense())\n",
    "for i, s in enumerate(SC):\n",
    "    simplex_chains[len(s)-1].append(s)\n",
    "    simplex_labels[len(s)-1].append(SC_labels[i])\n",
    "    simplex_features[len(s)-1].append(sum(feat_dense[list(s),:],0))\n",
    "# add 0-simplex to the chains\n",
    "simplex_chains[0] = [set([ss]) for ss in points]\n",
    "simplex_labels[0] = labels[list(points),:]\n",
    "simplex_features[0] = feat_dense[list(points),:]"
   ]
  },
  {
   "cell_type": "code",
   "execution_count": 8,
   "metadata": {},
   "outputs": [],
   "source": [
    "def add_pseudo(p, chain_p, label_p, feature_p, chain, label, feature):\n",
    "    \"\"\" chain_p: p-chain\n",
    "        chain: (p-1)-chain\n",
    "        pseudo: (p-1)-pseudo simplex, subset of p-simplex\n",
    "        chain_w_pseudo: union (p-1)-chain and (p-1)-pseudo simplex\"\"\"\n",
    "    chain_w_pseudo = chain.copy()\n",
    "    label_w_pseudo = label.copy()\n",
    "    feature_w_pseudo = feature.copy()\n",
    "    for s_idx, s in enumerate(chain_p):\n",
    "        for i in itertools.combinations(s,p):\n",
    "            if not set(i) in chain_w_pseudo:\n",
    "                \"\"\"pseudo simplex (subset of the p-simplex s) doesn't exist before in the (p-1)-chains\n",
    "                simply add the pseudo simplex\"\"\"\n",
    "                chain_w_pseudo.append(set(i))\n",
    "                label_w_pseudo.append(label_p[s_idx])\n",
    "                feature_w_pseudo.append(feature_p[s_idx])\n",
    "    return chain_w_pseudo, label_w_pseudo, feature_w_pseudo"
   ]
  },
  {
   "cell_type": "code",
   "execution_count": 9,
   "metadata": {},
   "outputs": [],
   "source": [
    "''' add faces to lower dimension simplex '''\n",
    "if flag_add_face:\n",
    "    # chains with pseudo simplex c^p and s(c^{p+1})\n",
    "    simplex_chains_all = [[] for _ in range(p_max+1)]\n",
    "    simplex_labels_all = [[] for _ in range(p_max+1)]\n",
    "    simplex_features_all = [[] for _ in range(p_max+1)]\n",
    "    for p in range(p_max+1):\n",
    "        if p < p_max:\n",
    "            simplex_chains_all[p], simplex_labels_all[p], simplex_features_all[p] \\\n",
    "            = add_pseudo(p+1, simplex_chains[p+1], simplex_labels[p+1], simplex_features[p+1], \n",
    "                simplex_chains[p], simplex_labels[p], simplex_features[p])\n",
    "        else:\n",
    "            simplex_chains_all[p], simplex_labels_all[p], simplex_features_all[p] \\\n",
    "            = simplex_chains[p].copy(), simplex_labels[p].copy(), simplex_features[p].copy()"
   ]
  },
  {
   "cell_type": "code",
   "execution_count": 10,
   "metadata": {},
   "outputs": [
    {
     "name": "stdout",
     "output_type": "stream",
     "text": [
      "0 2481 2481\n",
      "1 1805 3590\n",
      "2 758 1294\n",
      "3 154 183\n",
      "4 6 6\n"
     ]
    }
   ],
   "source": [
    "for p in range(p_max+1):\n",
    "    print(p, len(simplex_chains[p]), len(simplex_chains_all[p]))"
   ]
  },
  {
   "cell_type": "code",
   "execution_count": 11,
   "metadata": {},
   "outputs": [],
   "source": [
    "simplex_features_all_unormalized = simplex_features_all.copy()\n",
    "for p in range(len(simplex_features_all_unormalized)):\n",
    "    simplex_features_all_unormalized[p] = np.array(simplex_features_all_unormalized[p])"
   ]
  },
  {
   "cell_type": "code",
   "execution_count": 12,
   "metadata": {},
   "outputs": [],
   "source": [
    "\"\"\"labels to tensor\"\"\"\n",
    "for p in range(len(simplex_labels)):\n",
    "    simplex_labels[p] = torch.LongTensor(np.where(simplex_labels[p])[1])\n",
    "    simplex_labels_all[p] = torch.LongTensor(np.where(simplex_labels_all[p])[1])\n",
    "\"\"\"normalize features\"\"\"\n",
    "for p in range(len(simplex_features)):\n",
    "    simplex_features[p] = torch.FloatTensor(normalize(np.array(simplex_features[p])))\n",
    "    simplex_features_all[p] = torch.FloatTensor(normalize(np.array(simplex_features_all[p])))"
   ]
  },
  {
   "cell_type": "code",
   "execution_count": 13,
   "metadata": {},
   "outputs": [],
   "source": [
    "def higher_order_ana(p_max, simplex_chains):\n",
    "    \"\"\"build incidence matrices\"\"\"\n",
    "    incidences = [[] for _ in range(p_max+2)]\n",
    "    incidences[0] = np.zeros((1,len(simplex_chains[0])))           # incidence[0] = [0,...,0] (row)\n",
    "    incidences[p_max+1] = np.zeros((len(simplex_chains[p_max]),1)) # incidence[p_max+1] = [0,...,0] (column)\n",
    "    for p in range(1,p_max+1):\n",
    "        # incidences[p]: chain[p] --> chain[p-1]\n",
    "        incidences[p] = np.zeros((len(simplex_chains[p-1]),len(simplex_chains[p])))\n",
    "        for i in range(len(simplex_chains[p-1])):\n",
    "            for j in range(len(simplex_chains[p])):\n",
    "                if set(simplex_chains[p-1][i]).issubset(set(simplex_chains[p][j])): incidences[p][i][j] = 1\n",
    "\n",
    "    \"\"\"build higher order laplacian matrices\"\"\"\n",
    "    laplacians = [[] for _ in range(p_max+1)] # laplacians[p]: p-order laplacian matrix, p=0,...,p_max\n",
    "    for p in range(p_max+1):\n",
    "        laplacians[p] = incidences[p].T @ incidences[p] + incidences[p+1] @ incidences[p+1].T\n",
    "\n",
    "    \"\"\"extract higher order adjacency matrices from the laplacians\"\"\"\n",
    "    degrees = [np.diag(np.diag(laplacians[i])) for i in range(len(laplacians))]\n",
    "    adjacencies = laplacians.copy()\n",
    "    adj_norm_sp = []\n",
    "    for p in range(len(adjacencies)):\n",
    "        a_self = 1 if (p==0 or p== p_max) else 2\n",
    "        np.fill_diagonal(adjacencies[p],a_self) # add self-loops with weight 2: A = A + 2I_N\n",
    "        adj_norm = normalize(adjacencies[p]) #D^(-1/2)AD^(1/2)\n",
    "        adj_norm_sp.append(torch.from_numpy(adj_norm).to_sparse().double()) # convert to sparse tensor\n",
    "        \n",
    "    return adjacencies, adj_norm_sp, incidences, laplacians"
   ]
  },
  {
   "cell_type": "code",
   "execution_count": 14,
   "metadata": {},
   "outputs": [],
   "source": [
    "# adjacencies, adj_norm_sp, incidences, laplacians = higher_order_ana(p_max, simplex_chains)\n",
    "adjacencies_all, adj_norm_sp_all, incidences_all, laplacians_all = higher_order_ana(p_max, simplex_chains_all)"
   ]
  },
  {
   "cell_type": "code",
   "execution_count": 15,
   "metadata": {},
   "outputs": [
    {
     "name": "stdout",
     "output_type": "stream",
     "text": [
      "1294 8060.0\n"
     ]
    }
   ],
   "source": [
    "p = 2\n",
    "# print(adjacencies[p].shape[0], np.sum(adjacencies[p],axis = (0,1)))\n",
    "print(adjacencies_all[p].shape[0], np.sum(adjacencies_all[p],axis = (0,1)))\n",
    "# adjacencies_all[p]"
   ]
  },
  {
   "cell_type": "code",
   "execution_count": 16,
   "metadata": {},
   "outputs": [],
   "source": [
    "for p in range(len(adjacencies_all)):\n",
    "    adjacencies_all[p] = torch.from_numpy(adjacencies_all[p]).to_sparse().double() ###\n",
    "    incidences_all[p] = torch.from_numpy(incidences_all[p]).to_sparse().double() ###"
   ]
  },
  {
   "cell_type": "code",
   "execution_count": 17,
   "metadata": {},
   "outputs": [],
   "source": [
    "torch.save({'adj_p':adjacencies_all, 'adj_norm_sp':adj_norm_sp_all, \n",
    "        'simplex_features':simplex_features_all_unormalized, 'simplex_labels':simplex_labels_all, \n",
    "        'simplex_chains': simplex_chains_all, 'simplex_incidences': incidences_all},\n",
    "       './data/{}/pseudo/input_s_0.pt'.format(dataname))\n",
    "torch.save({'adj_norm_sp':adj_norm_sp_all,'simplex_features':simplex_features_all,\n",
    "        'simplex_labels':simplex_labels_all, 'simplex_chains': simplex_chains_all},\n",
    "       './data/{}/pseudo/input_s.pt'.format(dataname))"
   ]
  },
  {
   "cell_type": "markdown",
   "metadata": {},
   "source": [
    "build full adjacency matrix in equation (3)"
   ]
  },
  {
   "cell_type": "code",
   "execution_count": 18,
   "metadata": {},
   "outputs": [],
   "source": [
    "dataname = 'cora'\n",
    "path = './data/{}/pseudo/'.format(dataname)\n",
    "sx = torch.load(path + 'input_s_0.pt')\n",
    "\n",
    "adj_p = sx['adj_p']\n",
    "feat_p = sx['simplex_features']\n",
    "label_p = sx['simplex_labels']\n",
    "chain_p = sx['simplex_chains']\n",
    "incidence_p = sx['simplex_incidences']"
   ]
  },
  {
   "cell_type": "code",
   "execution_count": 19,
   "metadata": {},
   "outputs": [],
   "source": [
    "# connection weight (strength) for simplex self connection; \n",
    "# simplex self connection within same dimension; \n",
    "# between different dimension (i.e., whether is face and coface)\n",
    "w_self_con = 1\n",
    "w_simplex_con = 1\n",
    "w_face_con = 0.5\n",
    "\n",
    "for p in range(len(adj_p)):\n",
    "    adj_p[p] = adj_p[p].to_dense()\n",
    "    incidence_p[p] = incidence_p[p].to_dense()\n",
    "    adj_p[p] *= adj_p[p] * w_simplex_con\n",
    "    adj_p[p].fill_diagonal_(w_self_con)"
   ]
  },
  {
   "cell_type": "code",
   "execution_count": 20,
   "metadata": {},
   "outputs": [],
   "source": [
    "# build connection of all simplex with different dimension\n",
    "N_p = [feat_p[p].shape[0] for p in range(len(feat_p))]\n",
    "N = sum(N_p)\n",
    "adj = torch.zeros((N,N))\n",
    "for i in range(len(adj_p)):\n",
    "    adj[sum(N_p[:i]):sum(N_p[:i+1]),sum(N_p[:i]):sum(N_p[:i+1])] = adj_p[i]\n",
    "    if i < len(adj_p) - 1:\n",
    "        adj[sum(N_p[:i]):sum(N_p[:i+1]),sum(N_p[:i+1]):sum(N_p[:i+2])] \\\n",
    "        = w_face_con * incidence_p[i+1]\n",
    "        adj[sum(N_p[:i+1]):sum(N_p[:i+2]),sum(N_p[:i]):sum(N_p[:i+1])] \\\n",
    "        = w_face_con * incidence_p[i+1].T      \n",
    "adj_sp = adj.to_sparse().double()"
   ]
  },
  {
   "cell_type": "code",
   "execution_count": 21,
   "metadata": {},
   "outputs": [],
   "source": [
    "for p in range(len(feat_p)):\n",
    "    feat_p[p] = torch.FloatTensor(feat_p[p])\n",
    "    \n",
    "feat = torch.cat((feat_p),0)\n",
    "feat = torch.FloatTensor(normalize(feat))\n",
    "label = torch.cat((label_p),0)"
   ]
  },
  {
   "cell_type": "code",
   "execution_count": 22,
   "metadata": {},
   "outputs": [],
   "source": [
    "torch.save({'adj':adj_sp, 'feat': feat, 'label': label}, path+'input_sc.pt')"
   ]
  },
  {
   "cell_type": "code",
   "execution_count": null,
   "metadata": {},
   "outputs": [],
   "source": []
  }
 ],
 "metadata": {
  "kernelspec": {
   "display_name": "scgcn",
   "language": "python",
   "name": "scgcn"
  },
  "language_info": {
   "codemirror_mode": {
    "name": "ipython",
    "version": 3
   },
   "file_extension": ".py",
   "mimetype": "text/x-python",
   "name": "python",
   "nbconvert_exporter": "python",
   "pygments_lexer": "ipython3",
   "version": "3.7.7"
  }
 },
 "nbformat": 4,
 "nbformat_minor": 4
}
